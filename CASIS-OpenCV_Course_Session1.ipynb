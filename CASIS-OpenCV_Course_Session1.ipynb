{
 "cells": [
  {
   "cell_type": "markdown",
   "metadata": {
    "nbpresent": {
     "id": "eff3a02c-cf13-4c08-b2b3-df48c676159c"
    }
   },
   "source": [
    "<head>\n",
    "<meta content=\"text/html; charset=ISO-8859-1\"\n",
    "http-equiv=\"content-type\">\n",
    "<title></title>\n",
    "</head>\n",
    "<body>\n",
    "<p style=\"text-align: center;\" class=\"MsoNormal\"><big><big><big><big><span\n",
    "style=\"font-weight: bold; text-decoration: underline;\">OpenCV 101: A\n",
    "Practical Guide to the Open Computer Vision\n",
    "Library</span></big></big></p>\n",
    "<p style=\"text-align: center;\" class=\"MsoNormal\"><img alt=\"OpenCV\"\n",
    "src=\"https://a.fsdn.com/allura/p/opencvlibrary/icon\" /><br>\n",
    "<big><big><span style=\"font-weight: bold; text-decoration: underline;\"></span></big></big><o:p></o:p></p>\n",
    "<p class=\"MsoNormal\"><br>\n",
    "<o:p></o:p></p>\n",
    "<p style=\"text-align: center;\" class=\"MsoNormal\"><big>CASIS Short Course</big><o:p></o:p></p>\n",
    "<p class=\"MsoNormal\"><o:p>&nbsp;</o:p></p>\n",
    "<p style=\"text-align: center;\" class=\"MsoNormal\"><big><span\n",
    "style=\"font-style: italic;\">Matthew Rever, LLNL</span></big><o:p></o:p></p>\n",
    "<br>\n",
    "<p class=\"MsoNormal\"><o:p></o:p></p>\n",
    "</body>\n",
    "\n",
    "</div><!--/.row-->\n",
    " <p class=\"clearfix\"></p>\n",
    "<br />\t\t\t\n",
    "<div class=\"row\">\n",
    "<div class=\"span2\"></div>\n",
    "\t<div class=\"span8 well pull-left\" style=\"padding: 0.7em 0.7em 0.5em 0.7em; overflow: hidden;\">\n",
    "\t\t<div class=\"span4\">\n",
    "\t\t\t<h5 style=\"margin-top: 0;\"><p>Sponsored by:</p>\n",
    "\t\t\t<p><a href=\"https://www-eng.llnl.gov/\">LLNL Engineering Directorate</a></p>\n",
    "\t\t\t<p><a href=\"https://casis.llnl.gov/\">Center for Advanced Signal &amp; Image <br />Sciences (CASIS)</a></p>\n",
    "\t\t\t</h5>\n",
    "\t\t</div>\n",
    "\t\t<div class=\"span4 pull-right\" style=\"margin-left: 0px;\">\n",
    "\t\t\t<h5 style=\"margin-top: 0;\"><p>This technical event is jointly <br />sponsored by:</p>\n",
    "\t\t\t<a href=\"http://www.e-grid.net\"><img src=\"https://casis.llnl.gov/casis_2012/images/ieee_blue.gif\" alt=\"IEEE\" style=\"float: right; border: 1px outset #dddddd; padding: 5px; margin-right: 10px; background-color: white;\" /></a>\n",
    "\t\t\t<a href=\"http://www.ewh.ieee.org/r6/oeb/SigProc/sigproc.html\">Oakland-East Bay Chapter of the IEEE Signal Processing Society</a>\n",
    "\t\t\t</h5>\n",
    "\t\t</div>\n",
    "\t</div>\n",
    "</div><!--/.row Sponsor Div-->\t\t\t\n",
    "<p>&nbsp;</p>\t\n",
    "This work performed under the auspices of the U.S. Department of Energy by Lawrence Livermore National Laboratory under Contract DE-AC52-07NA27344\n",
    "<br><br>\n",
    "LLNL-PRES-700187\n"
   ]
  },
  {
   "cell_type": "markdown",
   "metadata": {
    "nbpresent": {
     "id": "a1921d95-f5ce-41d6-b399-9a7c5af9cb3c"
    }
   },
   "source": [
    "<head>\n",
    "<meta content=\"text/html; charset=ISO-8859-1\"\n",
    "http-equiv=\"content-type\">\n",
    "<title></title>\n",
    "</head>\n",
    "<body>\n",
    "<p style=\"text-align: center;\" class=\"MsoNormal\"><big><big><big><big><big><big>OpenCV -\n",
    "Open Computer Vision Library</big></big><o:p></o:p></p>\n",
    "<p class=\"MsoNormal\"><o:p>&nbsp;</o:p></p><br><br>\n",
    "<p class=\"MsoNormal\"><big><big><big>Vision, image &amp; video processing, and\n",
    "machine learning libraries\n",
    "rolled into one<o:p></o:p></big></p>\n",
    "<p class=\"MsoNormal\"><big><o:p>&nbsp;</o:p></big></p>\n",
    "<p class=\"MsoNormal\"><big>Multiplatform and multilanguage<o:p></o:p></big></p>\n",
    "<p class=\"MsoNormal\"><big><o:p>&nbsp;</o:p></big></p>\n",
    "<p class=\"MsoNormal\"><big>FREE and open source</big><o:p></o:p></p>\n",
    "</body>"
   ]
  },
  {
   "cell_type": "markdown",
   "metadata": {
    "nbpresent": {
     "id": "d3975a40-18ac-4026-8a39-b4157cc21d53"
    }
   },
   "source": [
    "<head>\n",
    "<meta content=\"text/html; charset=ISO-8859-1\"\n",
    "http-equiv=\"content-type\">\n",
    "<title></title>\n",
    "</head>\n",
    "<body>\n",
    "<p style=\"text-align: center;\" class=\"MsoNormal\"><big><big><big><big><big><big>Applications</big></big><o:p></o:p></p>\n",
    "<p class=\"MsoNormal\"><o:p>&nbsp;</o:p></p><br><br>\n",
    "<p class=\"MsoNormal\"><big><big><big>tracking and identifying objects (including\n",
    "humans)<o:p></o:p></big></p>\n",
    "<p class=\"MsoNormal\"><big><image alignment/registration/stitching<o:p></o:p></big></p>\n",
    "<p class=\"MsoNormal\"><big>tracking camera motion<o:p></o:p></big></p>\n",
    "<p class=\"MsoNormal\"><big>3D model reconstruction<o:p></o:p></big></p>\n",
    "<p class=\"MsoNormal\"><big>imaged-based searching<o:p></o:p></big></p>\n",
    "<p class=\"MsoNormal\"><big>and much more</big><o:p></o:p></p>\n",
    "<p class=\"MsoNormal\"><o:p>&nbsp;</o:p></p>\n",
    "<p class=\"MsoNormal\"><o:p></o:p></p>\n",
    "</body>"
   ]
  },
  {
   "cell_type": "markdown",
   "metadata": {
    "nbpresent": {
     "id": "30af4bd1-d2ec-47ec-bd16-aefe3514f0f1"
    }
   },
   "source": [
    "<head>\n",
    "<meta content=\"text/html; charset=ISO-8859-1\"\n",
    "http-equiv=\"content-type\">\n",
    "<title></title>\n",
    "</head>\n",
    "<body>\n",
    "<p style=\"text-align: center;\" class=\"MsoNormal\"><big><big><big><big><big><big>Users</big></big><o:p></o:p></p>\n",
    "<p class=\"MsoNormal\"><o:p><big><span style=\"font-weight: bold;\">&nbsp;Big\n",
    "industry:</span></big><br>\n",
    "</o:p></p>\n",
    "<p class=\"MsoNormal\">Google, Yahoo, Microsoft, Intel, IBM, Sony, Honda,\n",
    "Toyota<o:p></o:p></p>\n",
    "<p class=\"MsoNormal\"><o:p>&nbsp;<img style=\"width: 150px; height: 51px;\"\n",
    "alt=\"\"\n",
    "src=\"https://upload.wikimedia.org/wikipedia/commons/thumb/2/2f/Google_2015_logo.svg/250px-Google_2015_logo.svg.png\">\n",
    "<img style=\"width: 150px; height: 100px;\" alt=\"\"\n",
    "src=\"https://upload.wikimedia.org/wikipedia/commons/thumb/c/c9/Intel-logo.svg/220px-Intel-logo.svg.png\"><img\n",
    "style=\"width: 150px; height: 35px;\" alt=\"\"\n",
    "src=\"https://upload.wikimedia.org/wikipedia/commons/thumb/2/24/Yahoo%21_logo.svg/220px-Yahoo%21_logo.svg.png\"></o:p></p>\n",
    "<p class=\"MsoNormal\"><o:p><img style=\"width: 150px; height: 60px;\"\n",
    "alt=\"\"\n",
    "src=\"https://upload.wikimedia.org/wikipedia/commons/thumb/5/51/IBM_logo.svg/200px-IBM_logo.svg.png\">&nbsp;&nbsp;&nbsp;&nbsp;&nbsp;&nbsp;\n",
    "<img style=\"width: 220px; height: 39px;\" alt=\"\"\n",
    "src=\"https://upload.wikimedia.org/wikipedia/commons/thumb/c/ca/Sony_logo.svg/220px-Sony_logo.svg.png\">\n",
    "<br>\n",
    "</o:p></p>\n",
    "<p class=\"MsoNormal\">&nbsp;&nbsp;&nbsp;&nbsp;&nbsp;&nbsp; <br>\n",
    "<o:p></o:p></p><big><big>\n",
    "<p class=\"MsoNormal\">Also used in academia, national labs, and by\n",
    "individuals<o:p></o:p></p>\n",
    "<p class=\"MsoNormal\"><o:p>&nbsp;</o:p></p>\n",
    "<p style=\"text-align: center;\" class=\"MsoNormal\"><small><a\n",
    "href=\"http://opencv.org/about.html\" target=\"_blank\">http://opencv.org/about.html</a></small></p>\n",
    "</body>"
   ]
  },
  {
   "cell_type": "markdown",
   "metadata": {
    "nbpresent": {
     "id": "213eb2b0-b658-46ce-a72f-215a82c5cc7c"
    }
   },
   "source": [
    "<head>\n",
    "<meta content=\"text/html; charset=ISO-8859-1\"\n",
    "http-equiv=\"content-type\">\n",
    "<title></title>\n",
    "</head>\n",
    "<body>\n",
    "<p style=\"text-align: center;\" class=\"MsoNormal\"><big><big><big><big><big><big>Case examples</big></big><o:p></o:p></p>\n",
    "<p class=\"MsoNormal\"><o:p>&nbsp;</o:p></p><br><br>\n",
    "<big><big>\n",
    "<p class=\"MsoNormal\">stitching streetview images together<o:p></o:p></p>\n",
    "\n",
    "<p class=\"MsoNormal\">monitoring mine equipment in China&nbsp;<o:p></o:p></p>\n",
    "<p class=\"MsoNormal\">helping robots navigate and pick up objects at\n",
    "Willow\n",
    "Garage<o:p></o:p></p>\n",
    "<p class=\"MsoNormal\">detection of swimming pool drowning accidents in\n",
    "Europe<o:p></o:p></p>\n",
    "<p class=\"MsoNormal\">running interactive art in Spain and New York<o:p></o:p></p>\n",
    "<p class=\"MsoNormal\">checking runways for debris in Turkey<o:p></o:p></p>\n",
    "<p class=\"MsoNormal\">inspecting labels on products in factories around\n",
    "the world <br>\n",
    "</p>\n",
    "<p class=\"MsoNormal\">rapid face detection in Japan<o:p></o:p></p>\n",
    "\n",
    "<div style=\"text-align: center;\"><small><a\n",
    "href=\"http://opencv.org/about.html\" target=\"_blank\">http://opencv.org/about.html</a></small><br>\n",
    "</div>\n",
    "<p class=\"MsoNormal\"><o:p></o:p></p>\n",
    "</body>"
   ]
  },
  {
   "cell_type": "markdown",
   "metadata": {
    "nbpresent": {
     "id": "89b2c70c-1b84-4f3f-bf48-713d641d25ce"
    }
   },
   "source": [
    "<head>\n",
    "<meta content=\"text/html; charset=ISO-8859-1\"\n",
    "http-equiv=\"content-type\">\n",
    "<title></title>\n",
    "</head>\n",
    "<body>\n",
    "<p style=\"text-align: center;\" class=\"MsoNormal\"><big><big><big><big><big><big>Learning\n",
    "resources</big></big><o:p></o:p></p><br><br>\n",
    "<p class=\"MsoNormal\"><o:p>&nbsp;</o:p></p><big><big>\n",
    "<p class=\"MsoNormal\">Tutorials:<o:p></o:p></p>\n",
    "<p class=\"MsoNormal\">\n",
    "<a href=\"http://docs.opencv.org/3.1.0/d6/d00/tutorial_py_root.html#gsc.tab=0\"\n",
    "target=\"_blank\">http://docs.opencv.org/3.1.0/d6/d00/tutorial_py_root.html</a><o:p></o:p></p>\n",
    "<p class=\"MsoNormal\"><o:p>&nbsp;</o:p></p>\n",
    "<p class=\"MsoNormal\">Reference:<o:p></o:p></p>\n",
    "<p class=\"MsoNormal\"><a href=\"http://docs.opencv.org/2.4/index.html\"\n",
    "target=\"_blank\">http://docs.opencv.org/2.4/index.html</a><o:p></o:p></p>\n",
    "<p class=\"MsoNormal\"><o:p>&nbsp;</o:p></p>\n",
    "<p class=\"MsoNormal\">Community:<o:p></o:p></p>\n",
    "<p class=\"MsoNormal\"><a\n",
    "href=\"http://stackoverflow.com/questions/tagged/opencv\" target=\"_blank\">http://stackoverflow.com/questions/tagged/opencv</a><o:p></o:p></p>\n",
    "<p class=\"MsoNormal\"><o:p>&nbsp;</o:p></p>\n",
    "<p class=\"MsoNormal\">Books:</p>\n",
    "<p class=\"MsoNormal\">\n",
    "<a href=\"https://www.amazon.com/s/ref=nb_sb_noss_1?url=search-alias%3Daps&amp;field-keywords=opencv\">OpenCV\n",
    "on Amazon</a><br>\n",
    "<o:p></o:p></p>\n",
    "</body>"
   ]
  },
  {
   "cell_type": "markdown",
   "metadata": {
    "nbpresent": {
     "id": "1460f643-a4f5-40e8-b2df-588ccf04bbc6"
    }
   },
   "source": [
    "<head>\n",
    "<meta content=\"text/html; charset=ISO-8859-1\"\n",
    "http-equiv=\"content-type\">\n",
    "<title></title>\n",
    "</head>\n",
    "<body>\n",
    "<p style=\"text-align: center;\" class=\"MsoNormal\"><big><big><big><big><big><big>Course goals</big></big><o:p></o:p></p>\n",
    "<big><big>\n",
    "<p class=\"MsoNormal\"><o:p>&nbsp;</o:p><b>Learn</b><o:p></o:p></p><br>\n",
    "<p class=\"MsoNormal\">-how acquire/install OpenCV<o:p></o:p><br>\n",
    "-basic image/video manipulation<o:p></o:p><br>\n",
    "-essential image processing techniques<o:p></o:p><br>\n",
    "-object detection and feature finding<o:p></o:p><br>\n",
    "-working with videos<o:p></o:p><br>\n",
    "-basic machine learning<o:p></o:p><br>\n",
    "-(incidentally) programming with Python/Numpy/Jupyter<o:p></o:p></p>\n",
    "<p class=\"MsoNormal\"><o:p>&nbsp;</o:p></p>\n",
    "<p class=\"MsoNormal\"><b>Reality check</b><o:p></o:p></p>\n",
    "<p class=\"MsoNormal\">-Should learn strong foundation for applying\n",
    "OpenCV to your\n",
    "projects, BUT<o:p></o:p><br>\n",
    "-Course will NOT make you an expert in computer vision<o:p></o:p><br>\n",
    "-Course is pragmatic with minimal theory<o:p></o:p></p>\n",
    "</body>"
   ]
  },
  {
   "cell_type": "markdown",
   "metadata": {
    "nbpresent": {
     "id": "7426b6e0-8b90-4847-86b7-9507511d807f"
    }
   },
   "source": [
    "<head>\n",
    "<meta content=\"text/html; charset=ISO-8859-1\"\n",
    "http-equiv=\"content-type\">\n",
    "<title></title>\n",
    "</head>\n",
    "<body>\n",
    "<p style=\"text-align: center;\" class=\"MsoNormal\"><img\n",
    "style=\"width: 260px; height: 77px;\" alt=\"Python\"\n",
    "src=\"https://upload.wikimedia.org/wikipedia/commons/thumb/f/f8/Python_logo_and_wordmark.svg/260px-Python_logo_and_wordmark.svg.png\"><br>\n",
    "<o:p></o:p></p><big><big><big><big>\n",
    "<p class=\"MsoNormal\"><o:p>&nbsp;</o:p>Why Python?<o:p></o:p></p>\n",
    "<p class=\"MsoNormal\">\"Executable pseudo-code\"<o:p></o:p></p>\n",
    "<p class=\"MsoNormal\">Robust language<o:p></o:p></p>\n",
    "<p class=\"MsoNormal\">Suitable for numerics and any other programming\n",
    "task<o:p></o:p></p>\n",
    "<p class=\"MsoNormal\">Interpreted<o:p></o:p></p>\n",
    "<p class=\"MsoNormal\">Free, open source<o:p></o:p></p>\n",
    "</body>"
   ]
  },
  {
   "cell_type": "markdown",
   "metadata": {
    "nbpresent": {
     "id": "5e1738d7-c5be-46f1-a9b0-9d6644551c9e"
    }
   },
   "source": [
    "<head>\n",
    "<meta content=\"text/html; charset=ISO-8859-1\"\n",
    "http-equiv=\"content-type\">\n",
    "<title></title>\n",
    "</head>\n",
    "<body>\n",
    "<p style=\"text-align: center;\" class=\"MsoNormal\"><big><big><big><big><big><big>Getting\n",
    "Python</big></big><o:p></o:p></p>\n",
    "<p class=\"MsoNormal\"><img style=\"width: 200px; height: 100px;\"\n",
    "alt=\"Anaconda\"\n",
    "src=\"https://upload.wikimedia.org/wikipedia/en/thumb/c/cd/Anaconda_Logo.png/200px-Anaconda_Logo.png\"><br>\n",
    "<o:p></o:p></p><big><big>\n",
    "<p class=\"MsoNormal\"><o:p></o:p><a\n",
    "href=\"https://www.continuum.io/downloads\" target=\"_blank\">https://www.continuum.io/downloads</a><o:p></o:p></p>\n",
    "<p class=\"MsoNormal\">Version 3 vs 2<o:p></o:p></p>\n",
    "</body>"
   ]
  },
  {
   "cell_type": "markdown",
   "metadata": {
    "nbpresent": {
     "id": "15f3fbd2-0e7f-4ceb-93c1-8936cdebed7b"
    }
   },
   "source": [
    "<head>\n",
    "<meta content=\"text/html; charset=ISO-8859-1\"\n",
    "http-equiv=\"content-type\">\n",
    "<title></title>\n",
    "</head>\n",
    "<body><big><big><big><big>\n",
    "<p style=\"text-align: center;\" class=\"MsoNormal\"><big><big>Getting\n",
    "OpenCV</big></big><o:p></o:p></p>\n",
    "<p class=\"MsoNormal\"><o:p>&nbsp;</o:p></p>\n",
    "<p class=\"MsoNormal\">conda install -c menpo opencv3=3.1.0<o:p></o:p></p>\n",
    "<p class=\"MsoNormal\"><o:p>&nbsp;</o:p></p>\n",
    "<p class=\"MsoNormal\">OpenCV 3 vs 2<o:p></o:p></p>\n",
    "</body>"
   ]
  },
  {
   "cell_type": "code",
   "execution_count": 7,
   "metadata": {
    "collapsed": false,
    "nbpresent": {
     "id": "7fd202df-0403-44c9-9530-0fe75f87da01"
    }
   },
   "outputs": [
    {
     "name": "stdout",
     "output_type": "stream",
     "text": [
      "<break time>\n"
     ]
    }
   ],
   "source": [
    "print('<break time>')\n"
   ]
  },
  {
   "cell_type": "markdown",
   "metadata": {
    "nbpresent": {
     "id": "ed398bf3-86cf-4a55-ae1d-c8c9b557ef97"
    }
   },
   "source": [
    "<head>\n",
    "<meta content=\"text/html; charset=ISO-8859-1\"\n",
    "http-equiv=\"content-type\">\n",
    "<title></title>\n",
    "</head>\n",
    "<body><big><big><big><big>\n",
    "<div style=\"text-align: center;\"><big><big>Jupyter Notebooks</big></big><br>\n",
    "</div>\n",
    "<br>\n",
    "<a href=\"http://jupyter.org/\">Jupyter</a><br>\n",
    "</body>\n",
    "\n",
    "To start: <br><br><br>\n",
    "jupyter notebook"
   ]
  },
  {
   "cell_type": "markdown",
   "metadata": {
    "nbpresent": {
     "id": "7fb97c5e-4092-4e4e-8023-b795f49791da"
    }
   },
   "source": [
    "<big><big><big><big>Essential utility commands"
   ]
  },
  {
   "cell_type": "code",
   "execution_count": null,
   "metadata": {
    "collapsed": false,
    "nbpresent": {
     "id": "e0937ba9-ac52-4500-9355-f809320da00f"
    }
   },
   "outputs": [],
   "source": [
    "%pylab notebook\n",
    "import cv2\n"
   ]
  },
  {
   "cell_type": "markdown",
   "metadata": {
    "nbpresent": {
     "id": "912cb702-4e13-45e3-be96-8ca5bb075111"
    }
   },
   "source": [
    "<big><big><big><big>Reading and displaying image with numpy/matplot"
   ]
  },
  {
   "cell_type": "code",
   "execution_count": null,
   "metadata": {
    "collapsed": true,
    "nbpresent": {
     "id": "b6b7891d-3c45-408b-b1e0-9ff049e33104"
    }
   },
   "outputs": [],
   "source": [
    "\n",
    "# %cd (yourdirectory)\n",
    "# %ls *.png\n",
    "im2disp = imread('yourimagehere.png')\n",
    "figure()\n",
    "imshow(im2disp)\n"
   ]
  },
  {
   "cell_type": "markdown",
   "metadata": {
    "nbpresent": {
     "id": "fcdb542e-a920-41f2-9b8b-a6fe3b47f4a4"
    }
   },
   "source": [
    "<big><big><big><big>Now the OpenCV way"
   ]
  },
  {
   "cell_type": "code",
   "execution_count": null,
   "metadata": {
    "collapsed": true,
    "nbpresent": {
     "id": "ae7b3af1-e0c2-4011-8fb6-ae6794c5dfa9"
    }
   },
   "outputs": [],
   "source": [
    "\n",
    "cvim2disp = cv2.imread('yourimagehere.png')\n",
    "cv2.imshow('HelloWorld', cvim2disp)\n",
    "cv2.waitkey() #image will not show until this is called\n",
    "cv2.destroyWindow('HelloWorld') #make sure window closes cleanly\n"
   ]
  },
  {
   "cell_type": "markdown",
   "metadata": {
    "nbpresent": {
     "id": "0a2e56df-667e-41b7-a35f-fb58ddaf997b"
    }
   },
   "source": [
    "<big><big><big><big>Are numpy.imshow and cv2.imshow the same?"
   ]
  },
  {
   "cell_type": "code",
   "execution_count": null,
   "metadata": {
    "collapsed": true,
    "nbpresent": {
     "id": "aa164811-7136-40e4-8093-31a0a67b944f"
    }
   },
   "outputs": [],
   "source": [
    "figure()\n",
    "imshow(cvim2disp)\n"
   ]
  },
  {
   "cell_type": "markdown",
   "metadata": {
    "nbpresent": {
     "id": "45a597e1-1a3d-4e04-b570-92fb942bbbc8"
    }
   },
   "source": [
    "<big><big><big>What happened?? <br><br>\n",
    "For historical reasons, OpenCV defaults to BGR format instead of usual RGB <br><br>\n",
    "Solutions: <br><br>\n",
    "Use numpy/OpenCV consistently<br>\n",
    "or make sure to convert<br>"
   ]
  },
  {
   "cell_type": "code",
   "execution_count": null,
   "metadata": {
    "collapsed": true,
    "nbpresent": {
     "id": "dfa4b5ff-7f56-4a23-84b4-af0ac0e890ca"
    }
   },
   "outputs": [],
   "source": [
    "cvimrgb = cv2.cvtColor(cvim2disp,cv2.COLOR_BGR2RGB)\n",
    "\n",
    "#or\n",
    "imbgr = cv2.cvtColor(im2disp,cv2.COLOR_RGB2BGR)\n",
    "\n",
    "figure()\n",
    "imshow(cvimrgb)\n"
   ]
  },
  {
   "cell_type": "markdown",
   "metadata": {
    "nbpresent": {
     "id": "5e5ef64d-692e-4935-bcf8-8aefff52c384"
    }
   },
   "source": [
    "<big><big><big><big>Useful utility function"
   ]
  },
  {
   "cell_type": "code",
   "execution_count": null,
   "metadata": {
    "collapsed": true,
    "nbpresent": {
     "id": "71e23afe-a5a6-4888-8fbb-574af66c9ed1"
    }
   },
   "outputs": [],
   "source": [
    "def mycvshow(imagein, title='Image'): #title can be specified or left to the default\n",
    "    cv2.imshow(title,imagein)\n",
    "    cv2.waitKey()\n",
    "    cv2.destroyWindow(title)\n",
    "\n",
    "#we'll use this later, but for the most part we'll display inline\n"
   ]
  },
  {
   "cell_type": "markdown",
   "metadata": {
    "nbpresent": {
     "id": "0b2b252f-dc8d-46b3-865c-d91e5a67ed6a"
    }
   },
   "source": [
    "<big><big><big><big>Saving an image"
   ]
  },
  {
   "cell_type": "code",
   "execution_count": null,
   "metadata": {
    "collapsed": true,
    "nbpresent": {
     "id": "b580a43e-03cd-4fdc-8f0d-e69653969251"
    }
   },
   "outputs": [],
   "source": [
    "cv2.imwrite('mycvimage.png', cvim2disp)\n",
    "#or\n",
    "imsave('myimage.png',im2disp)\n"
   ]
  },
  {
   "cell_type": "markdown",
   "metadata": {
    "nbpresent": {
     "id": "2e934ba4-8539-4f5d-82ad-6cde06ad5238"
    }
   },
   "source": [
    "<head>\n",
    "<meta content=\"text/html; charset=ISO-8859-1\"\n",
    "http-equiv=\"content-type\">\n",
    "<title></title>\n",
    "</head>\n",
    "<body>\n",
    "<div style=\"text-align: center;\"><big><big><big>\n",
    "<a href=\"https://docs.scipy.org/doc/numpy-dev/user/numpy-for-matlab-users.html\">Numpy\n",
    "for Matlab users</a> </big></big><br>\n",
    "</div>\n",
    "<style>\n",
    "table.docutils td { border: solid 1px #ccc; }\n",
    "</style>\n",
    "<div class=\"section\" id=\"some-key-differences\">\n",
    "<h2>Some Key Differences</h2>\n",
    "<table class=\"docutils\" border=\"1\">\n",
    "<colgroup>\n",
    "<col width=\"50%\"><col width=\"50%\">\n",
    "</colgroup><tbody valign=\"top\">\n",
    "<tr class=\"row-odd\">\n",
    "<td>In MATLAB®, the basic data type is a multidimensional array\n",
    "of\n",
    "double precision floating point numbers. Most expressions take such\n",
    "arrays and return such arrays. Operations on the 2-D instances of\n",
    "these arrays are designed to act more or less like matrix operations\n",
    "in linear algebra.</td>\n",
    "<td>In NumPy the basic type is a multidimensional <tt\n",
    "class=\"docutils literal\"><span class=\"pre\">array</span></tt>.\n",
    "Operations\n",
    "on these arrays in all dimensionalities including 2D are elementwise\n",
    "operations. However, there is a special <tt class=\"docutils literal\"><span\n",
    "class=\"pre\">matrix</span></tt> type for doing\n",
    "linear algebra, which is just a subclass of the <tt\n",
    "class=\"docutils literal\"><span class=\"pre\">array</span></tt> class.\n",
    "Operations on matrix-class arrays are linear algebra operations.</td>\n",
    "</tr>\n",
    "<tr class=\"row-even\">\n",
    "<td>MATLAB® uses 1 (one) based indexing. The initial element of a\n",
    "sequence is found using a(1).\n",
    "<a class=\"reference internal\" href=\"#numpy-for-matlab-users-notes\"><em>See\n",
    "note INDEXING</em></a></td>\n",
    "<td>Python uses 0 (zero) based indexing. The initial element of a\n",
    "sequence is found using a[0].</td>\n",
    "</tr>\n",
    "<tr class=\"row-odd\">\n",
    "<td>MATLAB®’s scripting language was created for doing linear\n",
    "algebra.\n",
    "The syntax for basic matrix operations is nice and clean, but the API\n",
    "for adding GUIs and making full-fledged applications is more or less\n",
    "an afterthought.</td>\n",
    "<td>NumPy is based on Python, which was designed from the outset\n",
    "to be\n",
    "an excellent general-purpose programming language. While Matlab’s\n",
    "syntax for some array manipulations is more compact than\n",
    "NumPy’s, NumPy (by virtue of being an add-on to Python) can do many\n",
    "things that Matlab just cannot, for instance subclassing the main\n",
    "array type to do both array and matrix math cleanly.</td>\n",
    "</tr>\n",
    "<tr class=\"row-even\">\n",
    "<td>In MATLAB®, arrays have pass-by-value semantics, with a lazy\n",
    "copy-on-write scheme to prevent actually creating copies until they\n",
    "are actually needed. Slice operations copy parts of the array.</td>\n",
    "<td>In NumPy arrays have pass-by-reference semantics. Slice\n",
    "operations\n",
    "are views into an array.</td>\n",
    "</tr>\n",
    "</tbody>\n",
    "</table>\n",
    "</div>\n",
    "</body>"
   ]
  },
  {
   "cell_type": "markdown",
   "metadata": {
    "nbpresent": {
     "id": "1501269c-2107-40a8-a8ab-d46443c5c133"
    }
   },
   "source": [
    "<big><big><big><big>#1 numpy gotcha for people coming from Matlab"
   ]
  },
  {
   "cell_type": "code",
   "execution_count": null,
   "metadata": {
    "collapsed": false,
    "nbpresent": {
     "id": "1aee9993-9a16-4053-bfc8-e97ea1fabbdb"
    }
   },
   "outputs": [],
   "source": [
    "x = zeros(5)\n",
    "y = x\n",
    "\n",
    "y[1] = 1\n",
    "\n",
    "#uncomment this and run\n",
    "#print(x)\n"
   ]
  },
  {
   "cell_type": "markdown",
   "metadata": {
    "nbpresent": {
     "id": "0f618461-e7ba-41e3-9416-e70fd18e03d5"
    }
   },
   "source": [
    "<big><big><big><big>What happened?  Why did modifying y change x?\n",
    "<br><br>A: Python copies arrays and other mutable data types by reference by default\n",
    "<br><br><br>Here's what you probably want:\n"
   ]
  },
  {
   "cell_type": "code",
   "execution_count": null,
   "metadata": {
    "collapsed": false,
    "nbpresent": {
     "id": "285b7d68-b953-4b9e-8095-9e28a454adee"
    }
   },
   "outputs": [],
   "source": [
    "x=zeros(5)\n",
    "y=x.copy()\n",
    "\n",
    "y[1] = 1\n",
    "\n",
    "print(x)\n"
   ]
  },
  {
   "cell_type": "markdown",
   "metadata": {
    "nbpresent": {
     "id": "fdf28f4d-e257-49f5-a7c3-a4050163da8b"
    }
   },
   "source": [
    "<big><big><big>Let's run some of the included OpenCV examples\n"
   ]
  },
  {
   "cell_type": "code",
   "execution_count": null,
   "metadata": {
    "collapsed": true,
    "nbpresent": {
     "id": "48cf29b7-5967-4798-acf8-12fcb8c08928"
    }
   },
   "outputs": [],
   "source": [
    "%run inpaint.py\n"
   ]
  },
  {
   "cell_type": "code",
   "execution_count": null,
   "metadata": {
    "collapsed": true,
    "nbpresent": {
     "id": "c2b0183e-eb4e-43fe-ad48-4023b9bb7409"
    }
   },
   "outputs": [],
   "source": [
    "%run deconvolution.py\n"
   ]
  },
  {
   "cell_type": "code",
   "execution_count": null,
   "metadata": {
    "collapsed": true,
    "nbpresent": {
     "id": "755b4867-41e4-4c84-94bc-c91926f4de4e"
    }
   },
   "outputs": [],
   "source": [
    "%run feature_homography.py\n"
   ]
  },
  {
   "cell_type": "code",
   "execution_count": null,
   "metadata": {
    "collapsed": true,
    "nbpresent": {
     "id": "5525c670-90ca-440a-8fdf-3e4583db70d7"
    }
   },
   "outputs": [],
   "source": [
    "%run peopledetect.py\n"
   ]
  }
 ],
 "metadata": {
  "anaconda-cloud": {},
  "kernelspec": {
   "display_name": "Python [Root]",
   "language": "python",
   "name": "Python [Root]"
  },
  "language_info": {
   "codemirror_mode": {
    "name": "ipython",
    "version": 3
   },
   "file_extension": ".py",
   "mimetype": "text/x-python",
   "name": "python",
   "nbconvert_exporter": "python",
   "pygments_lexer": "ipython3",
   "version": "3.5.2"
  },
  "nbpresent": {
   "slides": {
    "019925b6-3427-4056-b7b3-037d5ada7af0": {
     "id": "019925b6-3427-4056-b7b3-037d5ada7af0",
     "prev": "884850c7-78aa-4ef5-85aa-78e84e04fcbb",
     "regions": {
      "8e599505-bab1-4ed7-98ae-aa13673ffe1e": {
       "attrs": {
        "height": 0.28205128205128205,
        "width": 0.8,
        "x": 0.1,
        "y": 0.1
       },
       "content": {
        "cell": "912cb702-4e13-45e3-be96-8ca5bb075111",
        "part": "whole"
       },
       "id": "8e599505-bab1-4ed7-98ae-aa13673ffe1e"
      },
      "dc527f95-5ef0-44ac-921f-083f4073e6ab": {
       "attrs": {
        "height": 0.2,
        "width": 0.4,
        "x": 0.5,
        "y": 0.7
       },
       "id": "dc527f95-5ef0-44ac-921f-083f4073e6ab"
      },
      "df98168a-6f2a-425e-8fa4-e23c90fc85fe": {
       "attrs": {
        "height": 0.5008547008547009,
        "width": 0.823076923076923,
        "x": 0.10096153846153846,
        "y": 0.43333333333333335
       },
       "content": {
        "cell": "b6b7891d-3c45-408b-b1e0-9ff049e33104",
        "part": "whole"
       },
       "id": "df98168a-6f2a-425e-8fa4-e23c90fc85fe"
      }
     }
    },
    "0b3bb0d8-7b62-45e2-bdea-56d1ddb07065": {
     "id": "0b3bb0d8-7b62-45e2-bdea-56d1ddb07065",
     "prev": "9fd2fc08-8f31-40b1-9c43-bc006b638a09",
     "regions": {
      "8ffac7cb-51dc-4754-9338-e40e26852937": {
       "attrs": {
        "height": 1,
        "width": 1,
        "x": 0,
        "y": 0
       },
       "content": {
        "cell": "89b2c70c-1b84-4f3f-bf48-713d641d25ce",
        "part": "whole"
       },
       "id": "8ffac7cb-51dc-4754-9338-e40e26852937"
      }
     }
    },
    "3a0e5011-0f74-4bc4-b4dd-84d1602d1e4d": {
     "id": "3a0e5011-0f74-4bc4-b4dd-84d1602d1e4d",
     "prev": "7514c99a-224c-4a85-a967-5195636ae76e",
     "regions": {
      "d37cf75d-0732-4701-8ab1-9cd15bc8e80b": {
       "attrs": {
        "height": 1,
        "width": 1,
        "x": 0,
        "y": 0
       },
       "content": {
        "cell": "7426b6e0-8b90-4847-86b7-9507511d807f",
        "part": "whole"
       },
       "id": "d37cf75d-0732-4701-8ab1-9cd15bc8e80b"
      }
     }
    },
    "6833f6d3-659c-4600-9c08-d89984d9ef0d": {
     "id": "6833f6d3-659c-4600-9c08-d89984d9ef0d",
     "prev": "c640b2e3-23c3-406e-a06e-88bc91506535",
     "regions": {
      "35872901-5898-436f-b3fc-fa00fffe05a9": {
       "attrs": {
        "height": 1,
        "width": 1,
        "x": 0,
        "y": 0
       },
       "content": {
        "cell": "ed398bf3-86cf-4a55-ae1d-c8c9b557ef97",
        "part": "whole"
       },
       "id": "35872901-5898-436f-b3fc-fa00fffe05a9"
      }
     }
    },
    "7514c99a-224c-4a85-a967-5195636ae76e": {
     "id": "7514c99a-224c-4a85-a967-5195636ae76e",
     "prev": "0b3bb0d8-7b62-45e2-bdea-56d1ddb07065",
     "regions": {
      "0a2bd284-d113-4f41-ad11-098bd03ac74f": {
       "attrs": {
        "height": 1,
        "width": 1,
        "x": 0,
        "y": 0
       },
       "content": {
        "cell": "1460f643-a4f5-40e8-b2df-588ccf04bbc6",
        "part": "whole"
       },
       "id": "0a2bd284-d113-4f41-ad11-098bd03ac74f"
      }
     }
    },
    "7d81e3c9-81e7-4c29-8022-538a15107a84": {
     "id": "7d81e3c9-81e7-4c29-8022-538a15107a84",
     "prev": "7fabf334-8dfb-4e29-ae1e-f8f321a75e33",
     "regions": {
      "51efe400-52e5-4e34-8685-83fd3618ff49": {
       "attrs": {
        "height": 1,
        "width": 1,
        "x": 0,
        "y": 0
       },
       "content": {
        "cell": "d3975a40-18ac-4026-8a39-b4157cc21d53",
        "part": "whole"
       },
       "id": "51efe400-52e5-4e34-8685-83fd3618ff49"
      }
     }
    },
    "7df09def-93b5-4d91-b080-6e2fae564ee0": {
     "id": "7df09def-93b5-4d91-b080-6e2fae564ee0",
     "prev": "9d0acc82-b4d0-4258-bfcb-54751095872c",
     "regions": {
      "7dc8ff01-1d4b-45a1-a278-7487ce352e48": {
       "attrs": {
        "height": 0.1675213675213675,
        "width": 0.8,
        "x": 0.1,
        "y": 0.1
       },
       "id": "7dc8ff01-1d4b-45a1-a278-7487ce352e48"
      },
      "d9d4dc18-ef7c-4938-8466-6760ebd8ff61": {
       "attrs": {
        "height": 0.2,
        "width": 0.4,
        "x": 0.5,
        "y": 0.7
       },
       "id": "d9d4dc18-ef7c-4938-8466-6760ebd8ff61"
      },
      "ec757ce9-6955-48e4-8dbb-69c023496362": {
       "attrs": {
        "height": 0.5743589743589743,
        "width": 0.8413461538461539,
        "x": 0.1,
        "y": 0.32564102564102565
       },
       "id": "ec757ce9-6955-48e4-8dbb-69c023496362"
      }
     }
    },
    "7fabf334-8dfb-4e29-ae1e-f8f321a75e33": {
     "id": "7fabf334-8dfb-4e29-ae1e-f8f321a75e33",
     "prev": "ca856989-0a9b-4281-83e3-ded0c06af816",
     "regions": {
      "4a6b784d-7fb4-4034-b9c9-e8e3d49ccbdb": {
       "attrs": {
        "height": 1,
        "width": 1,
        "x": 0,
        "y": 0
       },
       "content": {
        "cell": "a1921d95-f5ce-41d6-b399-9a7c5af9cb3c",
        "part": "whole"
       },
       "id": "4a6b784d-7fb4-4034-b9c9-e8e3d49ccbdb"
      }
     }
    },
    "884850c7-78aa-4ef5-85aa-78e84e04fcbb": {
     "id": "884850c7-78aa-4ef5-85aa-78e84e04fcbb",
     "prev": "6833f6d3-659c-4600-9c08-d89984d9ef0d",
     "regions": {
      "288c0e6a-f3ae-4f67-93b6-8a55e9634db1": {
       "attrs": {
        "height": 0.21025641025641026,
        "width": 0.8,
        "x": 0.1,
        "y": 0.1
       },
       "content": {
        "cell": "7fb97c5e-4092-4e4e-8023-b795f49791da",
        "part": "whole"
       },
       "id": "288c0e6a-f3ae-4f67-93b6-8a55e9634db1"
      },
      "4235e07a-e2e1-494e-aa2e-44cb3bc0908b": {
       "attrs": {
        "height": 0.3606837606837607,
        "width": 0.8,
        "x": 0.1,
        "y": 0.3803418803418803
       },
       "content": {
        "cell": "e0937ba9-ac52-4500-9355-f809320da00f",
        "part": "whole"
       },
       "id": "4235e07a-e2e1-494e-aa2e-44cb3bc0908b"
      },
      "adaea460-ec30-45f6-9737-4561f15e31ee": {
       "attrs": {
        "height": 1,
        "width": 1,
        "x": 0,
        "y": 0
       },
       "id": "adaea460-ec30-45f6-9737-4561f15e31ee"
      }
     }
    },
    "9d0acc82-b4d0-4258-bfcb-54751095872c": {
     "id": "9d0acc82-b4d0-4258-bfcb-54751095872c",
     "prev": "019925b6-3427-4056-b7b3-037d5ada7af0",
     "regions": {
      "781dd65e-f4a6-499c-9faa-ad4ff58b0831": {
       "attrs": {
        "height": 0.14017094017094017,
        "width": 0.8,
        "x": 0.1,
        "y": 0.1
       },
       "content": {
        "cell": "fcdb542e-a920-41f2-9b8b-a6fe3b47f4a4",
        "part": "whole"
       },
       "id": "781dd65e-f4a6-499c-9faa-ad4ff58b0831"
      },
      "b3c79e42-7512-4bfd-b2ae-c80a3e377d75": {
       "attrs": {
        "height": 0.6017094017094017,
        "width": 0.8076923076923077,
        "x": 0.1,
        "y": 0.2982905982905983
       },
       "content": {
        "cell": "ae7b3af1-e0c2-4011-8fb6-ae6794c5dfa9",
        "part": "whole"
       },
       "id": "b3c79e42-7512-4bfd-b2ae-c80a3e377d75"
      },
      "ceb2aead-3ab9-410a-b5f0-1e66ef2f5d9d": {
       "attrs": {
        "height": 0.2,
        "width": 0.4,
        "x": 0.5,
        "y": 0.7
       },
       "id": "ceb2aead-3ab9-410a-b5f0-1e66ef2f5d9d"
      }
     }
    },
    "9fd2fc08-8f31-40b1-9c43-bc006b638a09": {
     "id": "9fd2fc08-8f31-40b1-9c43-bc006b638a09",
     "prev": "eb430d24-2743-4147-b4d8-4dfe9fe354f9",
     "regions": {
      "53c2d421-95f8-4bf5-91ce-2bf61fcf4145": {
       "attrs": {
        "height": 1,
        "width": 1,
        "x": 0,
        "y": 0
       },
       "content": {
        "cell": "213eb2b0-b658-46ce-a72f-215a82c5cc7c",
        "part": "whole"
       },
       "id": "53c2d421-95f8-4bf5-91ce-2bf61fcf4145"
      }
     }
    },
    "c640b2e3-23c3-406e-a06e-88bc91506535": {
     "id": "c640b2e3-23c3-406e-a06e-88bc91506535",
     "prev": "3a0e5011-0f74-4bc4-b4dd-84d1602d1e4d",
     "regions": {
      "79a80fb9-9819-4190-b9a3-b0fe1afa1e25": {
       "attrs": {
        "height": 0.8,
        "width": 0.45,
        "x": 0.5,
        "y": 0.1
       },
       "content": {
        "cell": "15f3fbd2-0e7f-4ceb-93c1-8936cdebed7b",
        "part": "whole"
       },
       "id": "79a80fb9-9819-4190-b9a3-b0fe1afa1e25"
      },
      "e05cb8bc-bd5a-4d46-ae12-98c99fdd9779": {
       "attrs": {
        "height": 0.8,
        "width": 0.45,
        "x": 0.05,
        "y": 0.1
       },
       "content": {
        "cell": "5e1738d7-c5be-46f1-a9b0-9d6644551c9e",
        "part": "whole"
       },
       "id": "e05cb8bc-bd5a-4d46-ae12-98c99fdd9779"
      }
     }
    },
    "ca856989-0a9b-4281-83e3-ded0c06af816": {
     "id": "ca856989-0a9b-4281-83e3-ded0c06af816",
     "prev": null,
     "regions": {
      "1975c898-ce9f-41ab-a66e-8308c8b18983": {
       "attrs": {
        "height": 1,
        "width": 1,
        "x": 0,
        "y": 0
       },
       "content": {
        "cell": "eff3a02c-cf13-4c08-b2b3-df48c676159c",
        "part": "whole"
       },
       "id": "1975c898-ce9f-41ab-a66e-8308c8b18983"
      }
     }
    },
    "eb430d24-2743-4147-b4d8-4dfe9fe354f9": {
     "id": "eb430d24-2743-4147-b4d8-4dfe9fe354f9",
     "prev": "7d81e3c9-81e7-4c29-8022-538a15107a84",
     "regions": {
      "5597e743-7b5e-48e7-beb5-0a93c51dd3ed": {
       "attrs": {
        "height": 1,
        "width": 1,
        "x": 0,
        "y": 0
       },
       "content": {
        "cell": "30af4bd1-d2ec-47ec-bd16-aefe3514f0f1",
        "part": "whole"
       },
       "id": "5597e743-7b5e-48e7-beb5-0a93c51dd3ed"
      }
     }
    }
   },
   "themes": {}
  }
 },
 "nbformat": 4,
 "nbformat_minor": 0
}
